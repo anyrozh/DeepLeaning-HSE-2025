{
  "nbformat": 4,
  "nbformat_minor": 0,
  "metadata": {
    "hse_dl_year": "2021-fall",
    "colab": {
      "provenance": [],
      "toc_visible": true
    },
    "language_info": {
      "name": "python"
    },
    "kernelspec": {
      "name": "python3",
      "display_name": "Python 3"
    },
    "widgets": {
      "application/vnd.jupyter.widget-state+json": {
        "7bdf99216a6b4684a68f2912d4ff6453": {
          "model_module": "@jupyter-widgets/controls",
          "model_name": "HBoxModel",
          "model_module_version": "1.5.0",
          "state": {
            "_dom_classes": [],
            "_model_module": "@jupyter-widgets/controls",
            "_model_module_version": "1.5.0",
            "_model_name": "HBoxModel",
            "_view_count": null,
            "_view_module": "@jupyter-widgets/controls",
            "_view_module_version": "1.5.0",
            "_view_name": "HBoxView",
            "box_style": "",
            "children": [
              "IPY_MODEL_3553ff46ab1444d3bf653a031f7c288d",
              "IPY_MODEL_7c0b8192e4e94daeabcb68e2d3f50b76",
              "IPY_MODEL_88834b974a25496d842708e32f7ce6c7"
            ],
            "layout": "IPY_MODEL_d4f3ad777913470781217584f6859cc0"
          }
        },
        "3553ff46ab1444d3bf653a031f7c288d": {
          "model_module": "@jupyter-widgets/controls",
          "model_name": "HTMLModel",
          "model_module_version": "1.5.0",
          "state": {
            "_dom_classes": [],
            "_model_module": "@jupyter-widgets/controls",
            "_model_module_version": "1.5.0",
            "_model_name": "HTMLModel",
            "_view_count": null,
            "_view_module": "@jupyter-widgets/controls",
            "_view_module_version": "1.5.0",
            "_view_name": "HTMLView",
            "description": "",
            "description_tooltip": null,
            "layout": "IPY_MODEL_e4a314cc19404edbb4b3398f6d026824",
            "placeholder": "​",
            "style": "IPY_MODEL_e04fa76468ee46ed858bcc551b4d9e4f",
            "value": "100%"
          }
        },
        "7c0b8192e4e94daeabcb68e2d3f50b76": {
          "model_module": "@jupyter-widgets/controls",
          "model_name": "FloatProgressModel",
          "model_module_version": "1.5.0",
          "state": {
            "_dom_classes": [],
            "_model_module": "@jupyter-widgets/controls",
            "_model_module_version": "1.5.0",
            "_model_name": "FloatProgressModel",
            "_view_count": null,
            "_view_module": "@jupyter-widgets/controls",
            "_view_module_version": "1.5.0",
            "_view_name": "ProgressView",
            "bar_style": "success",
            "description": "",
            "description_tooltip": null,
            "layout": "IPY_MODEL_c5c3b2486a044378bcac50e9e9a57f1f",
            "max": 100,
            "min": 0,
            "orientation": "horizontal",
            "style": "IPY_MODEL_9b163bb51c5e4c9a97338e4c31da038b",
            "value": 100
          }
        },
        "88834b974a25496d842708e32f7ce6c7": {
          "model_module": "@jupyter-widgets/controls",
          "model_name": "HTMLModel",
          "model_module_version": "1.5.0",
          "state": {
            "_dom_classes": [],
            "_model_module": "@jupyter-widgets/controls",
            "_model_module_version": "1.5.0",
            "_model_name": "HTMLModel",
            "_view_count": null,
            "_view_module": "@jupyter-widgets/controls",
            "_view_module_version": "1.5.0",
            "_view_name": "HTMLView",
            "description": "",
            "description_tooltip": null,
            "layout": "IPY_MODEL_359ee5aa4a4246aab3d0b870fff906c8",
            "placeholder": "​",
            "style": "IPY_MODEL_d2f1654cf3834a619b70940a6a3f61c8",
            "value": " 100/100 [00:02&lt;00:00, 45.46it/s]"
          }
        },
        "d4f3ad777913470781217584f6859cc0": {
          "model_module": "@jupyter-widgets/base",
          "model_name": "LayoutModel",
          "model_module_version": "1.2.0",
          "state": {
            "_model_module": "@jupyter-widgets/base",
            "_model_module_version": "1.2.0",
            "_model_name": "LayoutModel",
            "_view_count": null,
            "_view_module": "@jupyter-widgets/base",
            "_view_module_version": "1.2.0",
            "_view_name": "LayoutView",
            "align_content": null,
            "align_items": null,
            "align_self": null,
            "border": null,
            "bottom": null,
            "display": null,
            "flex": null,
            "flex_flow": null,
            "grid_area": null,
            "grid_auto_columns": null,
            "grid_auto_flow": null,
            "grid_auto_rows": null,
            "grid_column": null,
            "grid_gap": null,
            "grid_row": null,
            "grid_template_areas": null,
            "grid_template_columns": null,
            "grid_template_rows": null,
            "height": null,
            "justify_content": null,
            "justify_items": null,
            "left": null,
            "margin": null,
            "max_height": null,
            "max_width": null,
            "min_height": null,
            "min_width": null,
            "object_fit": null,
            "object_position": null,
            "order": null,
            "overflow": null,
            "overflow_x": null,
            "overflow_y": null,
            "padding": null,
            "right": null,
            "top": null,
            "visibility": null,
            "width": null
          }
        },
        "e4a314cc19404edbb4b3398f6d026824": {
          "model_module": "@jupyter-widgets/base",
          "model_name": "LayoutModel",
          "model_module_version": "1.2.0",
          "state": {
            "_model_module": "@jupyter-widgets/base",
            "_model_module_version": "1.2.0",
            "_model_name": "LayoutModel",
            "_view_count": null,
            "_view_module": "@jupyter-widgets/base",
            "_view_module_version": "1.2.0",
            "_view_name": "LayoutView",
            "align_content": null,
            "align_items": null,
            "align_self": null,
            "border": null,
            "bottom": null,
            "display": null,
            "flex": null,
            "flex_flow": null,
            "grid_area": null,
            "grid_auto_columns": null,
            "grid_auto_flow": null,
            "grid_auto_rows": null,
            "grid_column": null,
            "grid_gap": null,
            "grid_row": null,
            "grid_template_areas": null,
            "grid_template_columns": null,
            "grid_template_rows": null,
            "height": null,
            "justify_content": null,
            "justify_items": null,
            "left": null,
            "margin": null,
            "max_height": null,
            "max_width": null,
            "min_height": null,
            "min_width": null,
            "object_fit": null,
            "object_position": null,
            "order": null,
            "overflow": null,
            "overflow_x": null,
            "overflow_y": null,
            "padding": null,
            "right": null,
            "top": null,
            "visibility": null,
            "width": null
          }
        },
        "e04fa76468ee46ed858bcc551b4d9e4f": {
          "model_module": "@jupyter-widgets/controls",
          "model_name": "DescriptionStyleModel",
          "model_module_version": "1.5.0",
          "state": {
            "_model_module": "@jupyter-widgets/controls",
            "_model_module_version": "1.5.0",
            "_model_name": "DescriptionStyleModel",
            "_view_count": null,
            "_view_module": "@jupyter-widgets/base",
            "_view_module_version": "1.2.0",
            "_view_name": "StyleView",
            "description_width": ""
          }
        },
        "c5c3b2486a044378bcac50e9e9a57f1f": {
          "model_module": "@jupyter-widgets/base",
          "model_name": "LayoutModel",
          "model_module_version": "1.2.0",
          "state": {
            "_model_module": "@jupyter-widgets/base",
            "_model_module_version": "1.2.0",
            "_model_name": "LayoutModel",
            "_view_count": null,
            "_view_module": "@jupyter-widgets/base",
            "_view_module_version": "1.2.0",
            "_view_name": "LayoutView",
            "align_content": null,
            "align_items": null,
            "align_self": null,
            "border": null,
            "bottom": null,
            "display": null,
            "flex": null,
            "flex_flow": null,
            "grid_area": null,
            "grid_auto_columns": null,
            "grid_auto_flow": null,
            "grid_auto_rows": null,
            "grid_column": null,
            "grid_gap": null,
            "grid_row": null,
            "grid_template_areas": null,
            "grid_template_columns": null,
            "grid_template_rows": null,
            "height": null,
            "justify_content": null,
            "justify_items": null,
            "left": null,
            "margin": null,
            "max_height": null,
            "max_width": null,
            "min_height": null,
            "min_width": null,
            "object_fit": null,
            "object_position": null,
            "order": null,
            "overflow": null,
            "overflow_x": null,
            "overflow_y": null,
            "padding": null,
            "right": null,
            "top": null,
            "visibility": null,
            "width": null
          }
        },
        "9b163bb51c5e4c9a97338e4c31da038b": {
          "model_module": "@jupyter-widgets/controls",
          "model_name": "ProgressStyleModel",
          "model_module_version": "1.5.0",
          "state": {
            "_model_module": "@jupyter-widgets/controls",
            "_model_module_version": "1.5.0",
            "_model_name": "ProgressStyleModel",
            "_view_count": null,
            "_view_module": "@jupyter-widgets/base",
            "_view_module_version": "1.2.0",
            "_view_name": "StyleView",
            "bar_color": null,
            "description_width": ""
          }
        },
        "359ee5aa4a4246aab3d0b870fff906c8": {
          "model_module": "@jupyter-widgets/base",
          "model_name": "LayoutModel",
          "model_module_version": "1.2.0",
          "state": {
            "_model_module": "@jupyter-widgets/base",
            "_model_module_version": "1.2.0",
            "_model_name": "LayoutModel",
            "_view_count": null,
            "_view_module": "@jupyter-widgets/base",
            "_view_module_version": "1.2.0",
            "_view_name": "LayoutView",
            "align_content": null,
            "align_items": null,
            "align_self": null,
            "border": null,
            "bottom": null,
            "display": null,
            "flex": null,
            "flex_flow": null,
            "grid_area": null,
            "grid_auto_columns": null,
            "grid_auto_flow": null,
            "grid_auto_rows": null,
            "grid_column": null,
            "grid_gap": null,
            "grid_row": null,
            "grid_template_areas": null,
            "grid_template_columns": null,
            "grid_template_rows": null,
            "height": null,
            "justify_content": null,
            "justify_items": null,
            "left": null,
            "margin": null,
            "max_height": null,
            "max_width": null,
            "min_height": null,
            "min_width": null,
            "object_fit": null,
            "object_position": null,
            "order": null,
            "overflow": null,
            "overflow_x": null,
            "overflow_y": null,
            "padding": null,
            "right": null,
            "top": null,
            "visibility": null,
            "width": null
          }
        },
        "d2f1654cf3834a619b70940a6a3f61c8": {
          "model_module": "@jupyter-widgets/controls",
          "model_name": "DescriptionStyleModel",
          "model_module_version": "1.5.0",
          "state": {
            "_model_module": "@jupyter-widgets/controls",
            "_model_module_version": "1.5.0",
            "_model_name": "DescriptionStyleModel",
            "_view_count": null,
            "_view_module": "@jupyter-widgets/base",
            "_view_module_version": "1.2.0",
            "_view_name": "StyleView",
            "description_width": ""
          }
        }
      }
    }
  },
  "cells": [
    {
      "cell_type": "markdown",
      "metadata": {
        "id": "qvW8-J6we6By"
      },
      "source": [
        "# Обучение нейросетей — BatchNorm2d\n"
      ]
    },
    {
      "cell_type": "markdown",
      "metadata": {
        "id": "1ecMva_Ge6B0"
      },
      "source": [
        "В этой домашке вам нужно реализовать BatchNormalization-слой"
      ]
    },
    {
      "cell_type": "code",
      "metadata": {
        "id": "v4S5PFg5e6B1"
      },
      "source": [
        "%matplotlib inline\n",
        "import matplotlib.pyplot as plt\n",
        "import numpy as np\n",
        "from IPython.display import clear_output\n",
        "\n",
        "import torch\n",
        "import torch.nn as nn\n",
        "import torch.nn.functional as F\n",
        "import torchvision.datasets as dsets\n",
        "import torchvision.transforms as transforms\n",
        "import torch.optim as optim\n",
        "from torch.utils.data.sampler import SubsetRandomSampler"
      ],
      "execution_count": 1,
      "outputs": []
    },
    {
      "cell_type": "code",
      "source": [
        "def seed_everything(seed: int):\n",
        "    import random, os\n",
        "    import numpy as np\n",
        "    import torch\n",
        "\n",
        "    torch.use_deterministic_algorithms(True)\n",
        "\n",
        "    random.seed(seed)\n",
        "    os.environ['PYTHONHASHSEED'] = str(seed)\n",
        "    np.random.seed(seed)\n",
        "    torch.manual_seed(seed)\n",
        "    torch.cuda.manual_seed(seed)\n",
        "    torch.backends.cudnn.deterministic = True\n",
        "    torch.backends.cudnn.benchmark = True"
      ],
      "metadata": {
        "id": "G78D4U8VPlXa"
      },
      "execution_count": 2,
      "outputs": []
    },
    {
      "cell_type": "code",
      "source": [
        "need_run_tests_and_training = 'google.colab' in str(get_ipython())\n",
        "need_run_tests_and_training"
      ],
      "metadata": {
        "id": "RDycPIfrP_f2",
        "outputId": "c8aa3241-b6e1-4f32-c258-2e2a49c84c7f",
        "colab": {
          "base_uri": "https://localhost:8080/"
        }
      },
      "execution_count": 3,
      "outputs": [
        {
          "output_type": "execute_result",
          "data": {
            "text/plain": [
              "True"
            ]
          },
          "metadata": {},
          "execution_count": 3
        }
      ]
    },
    {
      "cell_type": "code",
      "metadata": {
        "id": "5EuePwt3e6B5",
        "colab": {
          "base_uri": "https://localhost:8080/"
        },
        "outputId": "4742a5e2-24e0-4627-dc86-6f26df9d4efd"
      },
      "source": [
        "input_size = 784\n",
        "num_classes = 10\n",
        "batch_size = 128\n",
        "\n",
        "train_dataset = dsets.MNIST(root='./MNIST/',\n",
        "                                   train=True,\n",
        "                                   transform=transforms.ToTensor(),\n",
        "                                   download=True)\n",
        "\n",
        "test_dataset = dsets.MNIST(root='./MNIST/',\n",
        "                                  train=False,\n",
        "                                  transform=transforms.ToTensor())\n",
        "\n",
        "train_loader = torch.utils.data.DataLoader(dataset=train_dataset,\n",
        "                                           batch_size=batch_size,\n",
        "                                           shuffle=True)\n",
        "\n",
        "test_loader = torch.utils.data.DataLoader(dataset=test_dataset,\n",
        "                                          batch_size=batch_size,\n",
        "                                          shuffle=False)"
      ],
      "execution_count": 4,
      "outputs": [
        {
          "output_type": "stream",
          "name": "stdout",
          "text": [
            "Downloading http://yann.lecun.com/exdb/mnist/train-images-idx3-ubyte.gz\n",
            "Failed to download (trying next):\n",
            "HTTP Error 404: Not Found\n",
            "\n",
            "Downloading https://ossci-datasets.s3.amazonaws.com/mnist/train-images-idx3-ubyte.gz\n",
            "Downloading https://ossci-datasets.s3.amazonaws.com/mnist/train-images-idx3-ubyte.gz to ./MNIST/MNIST/raw/train-images-idx3-ubyte.gz\n"
          ]
        },
        {
          "output_type": "stream",
          "name": "stderr",
          "text": [
            "100%|██████████| 9.91M/9.91M [00:00<00:00, 25.5MB/s]\n"
          ]
        },
        {
          "output_type": "stream",
          "name": "stdout",
          "text": [
            "Extracting ./MNIST/MNIST/raw/train-images-idx3-ubyte.gz to ./MNIST/MNIST/raw\n",
            "\n",
            "Downloading http://yann.lecun.com/exdb/mnist/train-labels-idx1-ubyte.gz\n",
            "Failed to download (trying next):\n",
            "HTTP Error 404: Not Found\n",
            "\n",
            "Downloading https://ossci-datasets.s3.amazonaws.com/mnist/train-labels-idx1-ubyte.gz\n",
            "Downloading https://ossci-datasets.s3.amazonaws.com/mnist/train-labels-idx1-ubyte.gz to ./MNIST/MNIST/raw/train-labels-idx1-ubyte.gz\n"
          ]
        },
        {
          "output_type": "stream",
          "name": "stderr",
          "text": [
            "100%|██████████| 28.9k/28.9k [00:00<00:00, 811kB/s]\n"
          ]
        },
        {
          "output_type": "stream",
          "name": "stdout",
          "text": [
            "Extracting ./MNIST/MNIST/raw/train-labels-idx1-ubyte.gz to ./MNIST/MNIST/raw\n",
            "\n",
            "Downloading http://yann.lecun.com/exdb/mnist/t10k-images-idx3-ubyte.gz\n",
            "Failed to download (trying next):\n",
            "HTTP Error 404: Not Found\n",
            "\n",
            "Downloading https://ossci-datasets.s3.amazonaws.com/mnist/t10k-images-idx3-ubyte.gz\n",
            "Downloading https://ossci-datasets.s3.amazonaws.com/mnist/t10k-images-idx3-ubyte.gz to ./MNIST/MNIST/raw/t10k-images-idx3-ubyte.gz\n"
          ]
        },
        {
          "output_type": "stream",
          "name": "stderr",
          "text": [
            "100%|██████████| 1.65M/1.65M [00:00<00:00, 7.17MB/s]\n"
          ]
        },
        {
          "output_type": "stream",
          "name": "stdout",
          "text": [
            "Extracting ./MNIST/MNIST/raw/t10k-images-idx3-ubyte.gz to ./MNIST/MNIST/raw\n",
            "\n",
            "Downloading http://yann.lecun.com/exdb/mnist/t10k-labels-idx1-ubyte.gz\n",
            "Failed to download (trying next):\n",
            "HTTP Error 404: Not Found\n",
            "\n",
            "Downloading https://ossci-datasets.s3.amazonaws.com/mnist/t10k-labels-idx1-ubyte.gz\n",
            "Downloading https://ossci-datasets.s3.amazonaws.com/mnist/t10k-labels-idx1-ubyte.gz to ./MNIST/MNIST/raw/t10k-labels-idx1-ubyte.gz\n"
          ]
        },
        {
          "output_type": "stream",
          "name": "stderr",
          "text": [
            "100%|██████████| 4.54k/4.54k [00:00<00:00, 7.17MB/s]"
          ]
        },
        {
          "output_type": "stream",
          "name": "stdout",
          "text": [
            "Extracting ./MNIST/MNIST/raw/t10k-labels-idx1-ubyte.gz to ./MNIST/MNIST/raw\n",
            "\n"
          ]
        },
        {
          "output_type": "stream",
          "name": "stderr",
          "text": [
            "\n"
          ]
        }
      ]
    },
    {
      "cell_type": "markdown",
      "metadata": {
        "id": "nUFeuDtfe6B9"
      },
      "source": [
        "Определим ряд стандартных функций с прошлых семинаров"
      ]
    },
    {
      "cell_type": "code",
      "metadata": {
        "id": "a_rmaGJQe6B9"
      },
      "source": [
        "def train_epoch(model, optimizer, batchsize=32):\n",
        "    loss_log, acc_log = [], []\n",
        "    model.train()\n",
        "    for batch_num, (x_batch, y_batch) in enumerate(train_loader):\n",
        "        data = x_batch\n",
        "        target = y_batch\n",
        "\n",
        "        optimizer.zero_grad()\n",
        "        output = model(data)\n",
        "        pred = torch.max(output, 1)[1]\n",
        "        acc = torch.eq(pred, y_batch).float().mean()\n",
        "        acc_log.append(acc)\n",
        "\n",
        "        loss = F.nll_loss(output, target).cpu()\n",
        "        loss.backward()\n",
        "        optimizer.step()\n",
        "        loss = loss.item()\n",
        "        loss_log.append(loss)\n",
        "    return loss_log, acc_log\n",
        "\n",
        "def test(model):\n",
        "    loss_log, acc_log = [], []\n",
        "    model.eval()\n",
        "    for batch_num, (x_batch, y_batch) in enumerate(test_loader):\n",
        "        data = x_batch\n",
        "        target = y_batch\n",
        "\n",
        "        output = model(data)\n",
        "        loss = F.nll_loss(output, target).cpu()\n",
        "\n",
        "        pred = torch.max(output, 1)[1]\n",
        "        acc = torch.eq(pred, y_batch).float().mean()\n",
        "        acc_log.append(acc)\n",
        "\n",
        "        loss = loss.item()\n",
        "        loss_log.append(loss)\n",
        "    return loss_log, acc_log\n",
        "\n",
        "def plot_history(train_history, val_history, title='loss'):\n",
        "    plt.figure()\n",
        "    plt.title('{}'.format(title))\n",
        "    plt.plot(train_history, label='train', zorder=1)\n",
        "\n",
        "    points = np.array(val_history)\n",
        "\n",
        "    plt.scatter(points[:, 0], points[:, 1], marker='+', s=180, c='orange', label='val', zorder=2)\n",
        "    plt.xlabel('train steps')\n",
        "\n",
        "    plt.legend(loc='best')\n",
        "    plt.grid()\n",
        "\n",
        "    plt.show()\n",
        "\n",
        "def train(model, opt, n_epochs):\n",
        "\n",
        "    if not need_run_tests_and_training:\n",
        "        return\n",
        "\n",
        "    train_log, train_acc_log = [], []\n",
        "    val_log, val_acc_log = [], []\n",
        "\n",
        "\n",
        "    for epoch in range(n_epochs):\n",
        "        print(\"Epoch {0} of {1}\".format(epoch, n_epochs))\n",
        "        train_loss, train_acc = train_epoch(model, opt, batchsize=batch_size)\n",
        "\n",
        "        val_loss, val_acc = test(model)\n",
        "\n",
        "        train_log.extend(train_loss)\n",
        "        train_acc_log.extend(train_acc)\n",
        "\n",
        "        steps = train_dataset.train_labels.shape[0] / batch_size\n",
        "        val_log.append((steps * (epoch + 1), np.mean(val_loss)))\n",
        "        val_acc_log.append((steps * (epoch + 1), np.mean(val_acc)))\n",
        "\n",
        "        clear_output()\n",
        "        plot_history(train_log, val_log)\n",
        "        plot_history(train_acc_log, val_acc_log, title='accuracy')\n",
        "\n",
        "        print(\"Epoch: {2}, val loss: {0}, val accuracy: {1}\".format(np.mean(val_loss), np.mean(val_acc), epoch))\n"
      ],
      "execution_count": 5,
      "outputs": []
    },
    {
      "cell_type": "markdown",
      "metadata": {
        "id": "MjhiP5h-e6CA"
      },
      "source": [
        "Создайте простейшую однослойную модель - однослойную полносвязную сеть и обучите ее с параметрами оптимизации, заданными ниже."
      ]
    },
    {
      "cell_type": "code",
      "metadata": {
        "id": "TLB2iHNke6CB"
      },
      "source": [
        "model = nn.Sequential(\n",
        "                    nn.Flatten(1),\n",
        "                    nn.Linear(input_size, num_classes),\n",
        "                    nn.LogSoftmax(dim=-1)\n",
        ")"
      ],
      "execution_count": 6,
      "outputs": []
    },
    {
      "cell_type": "code",
      "metadata": {
        "id": "z8ppSMDae6CE",
        "colab": {
          "base_uri": "https://localhost:8080/",
          "height": 945
        },
        "outputId": "0c81cb56-76a1-498f-83d7-269371847e22"
      },
      "source": [
        "opt = torch.optim.Adam(model.parameters(), lr=0.0005)\n",
        "train(model, opt, 10)"
      ],
      "execution_count": 7,
      "outputs": [
        {
          "output_type": "display_data",
          "data": {
            "text/plain": [
              "<Figure size 640x480 with 1 Axes>"
            ],
            "image/png": "[encoded data removed]"
          },
          "metadata": {}
        },
        {
          "output_type": "display_data",
          "data": {
            "text/plain": [
              "<Figure size 640x480 with 1 Axes>"
            ],
            "image/png": "[encoded data removed]"
          },
          "metadata": {}
        },
        {
          "output_type": "stream",
          "name": "stdout",
          "text": [
            "Epoch: 9, val loss: 0.2731943185900963, val accuracy: 0.9234572649002075\n"
          ]
        }
      ]
    },
    {
      "cell_type": "markdown",
      "metadata": {
        "id": "7smJP34Pe6CH"
      },
      "source": [
        "Параметром обученной нейросети является матрица весов, в которой каждому классу соответствует один из 784-мерных столбцов. Визуализируйте обученные векторы для каждого из классов, сделав их двумерными изображениями 28-28. Для визуализации можно воспользоваться кодом для визуализации MNIST-картинок с предыдущих семинаров."
      ]
    },
    {
      "cell_type": "code",
      "source": [
        "model._modules['1'].weight.shape"
      ],
      "metadata": {
        "id": "6tov2FefZHmn",
        "colab": {
          "base_uri": "https://localhost:8080/"
        },
        "outputId": "7e143289-69bb-4acc-9e34-8ae8c02ffe3e"
      },
      "execution_count": 8,
      "outputs": [
        {
          "output_type": "execute_result",
          "data": {
            "text/plain": [
              "torch.Size([10, 784])"
            ]
          },
          "metadata": {},
          "execution_count": 8
        }
      ]
    },
    {
      "cell_type": "code",
      "metadata": {
        "id": "WIwBt7cJe6CH",
        "colab": {
          "base_uri": "https://localhost:8080/",
          "height": 375
        },
        "outputId": "3ff2d38d-8d69-44de-945d-96c24287645d"
      },
      "source": [
        "weights = model._modules['1'].weight.detach().numpy()\n",
        "plt.figure(figsize=[10, 10])\n",
        "for i in range(10):\n",
        "    plt.subplot(5, 5, i + 1)\n",
        "    plt.title(\"Label: %i\" % i)\n",
        "\n",
        "    plt.imshow(weights[i].reshape([28, 28]), cmap='gray');"
      ],
      "execution_count": 9,
      "outputs": [
        {
          "output_type": "display_data",
          "data": {
            "text/plain": [
              "<Figure size 1000x1000 with 10 Axes>"
            ],
            "image/png": "[encoded data removed]"
          },
          "metadata": {}
        }
      ]
    },
    {
      "cell_type": "markdown",
      "metadata": {
        "id": "nKtMonw3e6Cf"
      },
      "source": [
        "## BatchNorm2d\n",
        "\n",
        "Реализуйте BatchNormalization слой для сверточной сети\n",
        "\n",
        "* `nn.Parameter` нужно использовать для того, чтобы определить обучаемые параметры для сети\n",
        "* буфферы нужно использовать для других тензоров, которые должны возвращаться в `state_dict()` модели, но для которых не нужно вычислять градиенты\n",
        "* В чем разница между register_buffer, register_parameter: [тык](https://stackoverflow.com/questions/57540745/what-is-the-difference-between-register-parameter-and-register-buffer-in-pytorch)\n",
        "* для буфферов не должны считаться градиенты, используте `.detach()` при операциях с тензорами, по которым считаются градиенты\n",
        "* Для того, чтобы заработал [broadcast](https://pytorch.org/docs/stable/notes/broadcasting.html) между тензорами разных рзаменностей, можно использовать .view(1, -1, 1, 1)\n"
      ]
    },
    {
      "cell_type": "code",
      "source": [
        "torch.arange(3).shape, torch.arange(3).view(1, -1, 1, 1).shape"
      ],
      "metadata": {
        "colab": {
          "base_uri": "https://localhost:8080/"
        },
        "id": "_sR3ASBhoRPf",
        "outputId": "9e66a286-af61-4d34-a3f2-b5bf9702c50d"
      },
      "execution_count": 10,
      "outputs": [
        {
          "output_type": "execute_result",
          "data": {
            "text/plain": [
              "(torch.Size([3]), torch.Size([1, 3, 1, 1]))"
            ]
          },
          "metadata": {},
          "execution_count": 10
        }
      ]
    },
    {
      "cell_type": "code",
      "source": [
        "torch.zeros([2, 3, 4, 4]) - torch.arange(3).view(1, -1, 1, 1)"
      ],
      "metadata": {
        "colab": {
          "base_uri": "https://localhost:8080/"
        },
        "id": "ORr5C8JXoNlA",
        "outputId": "a788bd3b-4f69-4148-a218-55760abb3e50"
      },
      "execution_count": 11,
      "outputs": [
        {
          "output_type": "execute_result",
          "data": {
            "text/plain": [
              "tensor([[[[ 0.,  0.,  0.,  0.],\n",
              "          [ 0.,  0.,  0.,  0.],\n",
              "          [ 0.,  0.,  0.,  0.],\n",
              "          [ 0.,  0.,  0.,  0.]],\n",
              "\n",
              "         [[-1., -1., -1., -1.],\n",
              "          [-1., -1., -1., -1.],\n",
              "          [-1., -1., -1., -1.],\n",
              "          [-1., -1., -1., -1.]],\n",
              "\n",
              "         [[-2., -2., -2., -2.],\n",
              "          [-2., -2., -2., -2.],\n",
              "          [-2., -2., -2., -2.],\n",
              "          [-2., -2., -2., -2.]]],\n",
              "\n",
              "\n",
              "        [[[ 0.,  0.,  0.,  0.],\n",
              "          [ 0.,  0.,  0.,  0.],\n",
              "          [ 0.,  0.,  0.,  0.],\n",
              "          [ 0.,  0.,  0.,  0.]],\n",
              "\n",
              "         [[-1., -1., -1., -1.],\n",
              "          [-1., -1., -1., -1.],\n",
              "          [-1., -1., -1., -1.],\n",
              "          [-1., -1., -1., -1.]],\n",
              "\n",
              "         [[-2., -2., -2., -2.],\n",
              "          [-2., -2., -2., -2.],\n",
              "          [-2., -2., -2., -2.],\n",
              "          [-2., -2., -2., -2.]]]])"
            ]
          },
          "metadata": {},
          "execution_count": 11
        }
      ]
    },
    {
      "cell_type": "code",
      "metadata": {
        "id": "LWvaRXmOe6Cg"
      },
      "source": [
        "# эту ячейку в тестах я буду сохранять в отдельный файл, поэтому не нужно\n",
        "# изменять имя класса, убирать импорты (добавлять, в принципе, можно)\n",
        "# добавлять в ячейку какой-то посторонний код, не связанный с реализацией этого класса\n",
        "\n",
        "from typing import Optional, Any\n",
        "import torch\n",
        "import torch.nn as nn\n",
        "import torch.nn.functional as F\n",
        "\n",
        "class BatchNorm2dLayer(nn.Module): # не надо переименовыввать этот класс\n",
        "    \"\"\"\n",
        "    https://pytorch.org/docs/stable/generated/torch.nn.BatchNorm2d.html\n",
        "    \"\"\"\n",
        "\n",
        "    def __init__(self, num_features, eps=1e-05, momentum=0.1, affine=True, track_running_stats=True, device=None):\n",
        "        super().__init__()\n",
        "\n",
        "        self.eps = eps\n",
        "        self.momentum = momentum\n",
        "        self.affine = affine\n",
        "        self.num_features = num_features\n",
        "\n",
        "        self.track_running_stats = track_running_stats\n",
        "\n",
        "        if self.affine:\n",
        "            self.weight = nn.Parameter(torch.ones(num_features, device=device), requires_grad=True)\n",
        "            self.bias = nn.Parameter(torch.zeros(num_features, device=device), requires_grad=True)\n",
        "        else:\n",
        "            self.register_parameter(\"weight\", None)\n",
        "            self.register_parameter(\"bias\", None)\n",
        "\n",
        "        if self.track_running_stats:\n",
        "            self.register_buffer('running_mean', torch.zeros(num_features, device=device))\n",
        "            self.register_buffer('running_var', torch.ones(num_features, device=device))\n",
        "\n",
        "            self.register_buffer('num_batches_tracked',\n",
        "                                 torch.tensor(0, dtype=torch.long, device=device))\n",
        "\n",
        "            self.num_batches_tracked: Optional[torch.Tensor]\n",
        "        else:\n",
        "            self.register_buffer(\"running_mean\", None)\n",
        "            self.register_buffer(\"running_var\", None)\n",
        "            self.register_buffer(\"num_batches_tracked\", None)\n",
        "\n",
        "\n",
        "    def forward(self, input_tensor):\n",
        "        # вычисляем mean + var по каналам для всего батча\n",
        "\n",
        "        # Обратите внимание на предложение в документации \"The standard-deviation is calculated via ...\"\n",
        "        #\n",
        "        # В результате должно получиться 2 тензора размерности [ self.num_features ] (средние, дисперсии для всех каналов)\n",
        "        # Обратите внимание, что mean/var принимает аргументом параметр dim: `dim is a list of dimensions, reduce over all of them.`\n",
        "        # То есть если передать список размерностей, то среднее будет считаться по всем указанным размерностям. Размерности нумеруются с нуля\n",
        "        #\n",
        "        # То есть для тензора [ batch_size, channels, width, heigth ] .mean(dim=[2, 3]) посчитает среднее значения пикселей для каждой картинке.\n",
        "        # Ваша задача усреднить по ВСЕМ картинкам и всем пикселям, нужно добавить еще одну размерность в список размерностей для усреднения\n",
        "\n",
        "        # CODE\n",
        "      if self.training or not self.track_running_stats:\n",
        "        mean = input_tensor.mean(dim=[0, 2, 3])\n",
        "        var = input_tensor.var(dim=[0, 2, 3], unbiased=False)\n",
        "      else:\n",
        "        mean = self.running_mean\n",
        "        var = self.running_var\n",
        "         # обновляем self.running_var, self.running_mean, self.num_batches_tracked\n",
        "         # Как обновить? Смотрите Note в документации BatchNorm2d\n",
        "         # не забываем сделать detach\n",
        "         # CODE\n",
        "      if self.track_running_stats and self.training:\n",
        "        with torch.no_grad():\n",
        "                self.running_mean = (1 - self.momentum) * self.running_mean + self.momentum * mean.detach()\n",
        "                self.running_var = (1 - self.momentum) * self.running_var + self.momentum * var.detach()\n",
        "                self.num_batches_tracked += 1\n",
        "\n",
        "      if self.track_running_stats and not self.training:\n",
        "            pass\n",
        "            # в этом случае исползуем подсчитанные во время тренировки средние значения по каналам\n",
        "            # CODE\n",
        "\n",
        "\n",
        "        # по формуле из документации нормализуем данные\n",
        "      normalized = (input_tensor - mean[None, :, None, None]) / torch.sqrt(var[None, :, None, None] + self.eps)\n",
        "        # обратите внимание на хинты перед этой ячейкой\n",
        "        # CODE\n",
        "\n",
        "        # если есть обучаемые параметры для аффинного преобразования, делаем это преобразование\n",
        "        # тут тоже пригодятся хинты\n",
        "        # CODE\n",
        "      if self.affine:\n",
        "        normalized = normalized * self.weight[None, :, None, None] + self.bias[None, :, None, None]\n",
        "\n",
        "      return normalized\n",
        "\n",
        "    def __repr__(self):\n",
        "        return (\n",
        "            \"BatchNorm2dLayer({num_features}, eps={eps}, momentum={momentum}, affine={affine}, \"\n",
        "            \"track_running_stats={track_running_stats})\".format(**self.__dict__)\n",
        "        )"
      ],
      "execution_count": 18,
      "outputs": []
    },
    {
      "cell_type": "code",
      "source": [
        "from tqdm.auto import tqdm\n",
        "\n",
        "def _test_batch_norm(bn, torch_bn, description=\"train\"):\n",
        "\n",
        "    batch_size = 2\n",
        "    image_size = (3, 3)\n",
        "\n",
        "    for i in range(3):\n",
        "        batch = torch.rand([ batch_size, torch_bn.num_features, *image_size ])\n",
        "        batch_clone = batch.clone()\n",
        "\n",
        "        my_bn_out    = bn.forward(batch)\n",
        "        torch_bn_out = torch_bn.forward(batch)\n",
        "\n",
        "        # print(\"my_bn_out\", my_bn_out)\n",
        "        # print(\"torch_bn_out\", torch_bn_out)\n",
        "\n",
        "        assert (batch_clone == batch).all(), \"batch was not changed inside module\"\n",
        "\n",
        "        # check buffers\n",
        "        assert torch_bn.num_batches_tracked == bn.num_batches_tracked, f\"{description}: num_batches_tracked mismatch: {torch_bn.num_batches_tracked} == {bn.num_batches_tracked}\"\n",
        "\n",
        "        if torch_bn.track_running_stats:\n",
        "            assert bn.running_mean.requires_grad == False, \"bn.running_mean should not requires_grad. Use .detach() for per batch means\"\n",
        "            assert bn.running_var.requires_grad == False, \"bn.running_var should not requires_grad. Use .detach() for per batch vars\"\n",
        "\n",
        "            assert torch_bn.running_mean.allclose(bn.running_mean), f\"{description}: running_mean mismatch: {torch_bn.running_mean} == {bn.running_mean}\"\n",
        "            assert torch_bn.running_var.allclose(bn.running_var, rtol=0.1), f\"{description}: running_var mismatch: {torch_bn.running_var} == {bn.running_var}\"\n",
        "\n",
        "        # check parameters\n",
        "        if torch_bn.affine:\n",
        "            assert torch_bn.weight.allclose(bn.weight), f\"{description}: weight mismatch: {torch_bn.weight} == {bn.weight}\"\n",
        "            assert torch_bn.bias.allclose(bn.bias), f\"{description}: bias mismatch: {torch_bn.bias} == {bn.bias}\"\n",
        "\n",
        "        assert torch_bn_out.allclose(my_bn_out, atol=1e-04, rtol=0.1), f\"{description}: {i} torch normalized batch equals to yours one\"\n",
        "\n",
        "    return\n",
        "\n",
        "\n",
        "def test_batch_norm_2d():\n",
        "\n",
        "    with torch.no_grad():\n",
        "\n",
        "        for num_channels in (1, 2, 3):\n",
        "\n",
        "            test_descr = f\"train: [channels={num_channels}]\"\n",
        "\n",
        "            bn = BatchNorm2dLayer(num_channels, track_running_stats=True).train()\n",
        "            torch_bn = nn.BatchNorm2d(num_channels, track_running_stats=True).train()\n",
        "\n",
        "            _test_batch_norm(bn, torch_bn, description=test_descr)\n",
        "\n",
        "            bn.eval()\n",
        "            torch_bn.eval()\n",
        "\n",
        "            test_descr = f\"eval: [channels={num_channels}]\"\n",
        "            _test_batch_norm(bn, torch_bn, description=test_descr)\n",
        "\n",
        "def test_batch_norm_2d_do_not_track_running_stats():\n",
        "\n",
        "    with torch.no_grad():\n",
        "\n",
        "        for num_channels in (1, 2, 3):\n",
        "\n",
        "            test_descr = f\"train: [channels={num_channels}]\"\n",
        "\n",
        "            bn = BatchNorm2dLayer(num_channels, track_running_stats=False).train()\n",
        "            torch_bn = nn.BatchNorm2d(num_channels, track_running_stats=False).train()\n",
        "\n",
        "            _test_batch_norm(bn, torch_bn, description=test_descr)\n",
        "\n",
        "            bn.eval()\n",
        "            torch_bn.eval()\n",
        "\n",
        "            test_descr = f\"eval: [channels={num_channels}]\"\n",
        "            _test_batch_norm(bn, torch_bn, description=test_descr)\n",
        "\n",
        "def test_batch_norm_2d_do_not_track_running_stats_not_affine():\n",
        "\n",
        "    with torch.no_grad():\n",
        "\n",
        "        for num_channels in (1, 2, 3):\n",
        "\n",
        "            test_descr = f\"train: [channels={num_channels}]\"\n",
        "\n",
        "            bn = BatchNorm2dLayer(num_channels, track_running_stats=False, affine=False).train()\n",
        "            torch_bn = nn.BatchNorm2d(num_channels, track_running_stats=False, affine=False).train()\n",
        "\n",
        "            _test_batch_norm(bn, torch_bn, description=test_descr)\n",
        "\n",
        "            bn.eval()\n",
        "            torch_bn.eval()\n",
        "\n",
        "            test_descr = f\"eval: [channels={num_channels}]\"\n",
        "            _test_batch_norm(bn, torch_bn, description=test_descr)\n",
        "\n",
        "\n",
        "seed_everything(42)\n",
        "\n",
        "if need_run_tests_and_training:\n",
        "    for _ in tqdm(range(100)):\n",
        "        test_batch_norm_2d()\n",
        "        test_batch_norm_2d_do_not_track_running_stats()\n",
        "        test_batch_norm_2d_do_not_track_running_stats_not_affine()"
      ],
      "metadata": {
        "id": "b3DvFg-ggTOm",
        "colab": {
          "base_uri": "https://localhost:8080/",
          "height": 49,
          "referenced_widgets": [
            "7bdf99216a6b4684a68f2912d4ff6453",
            "3553ff46ab1444d3bf653a031f7c288d",
            "7c0b8192e4e94daeabcb68e2d3f50b76",
            "88834b974a25496d842708e32f7ce6c7",
            "d4f3ad777913470781217584f6859cc0",
            "e4a314cc19404edbb4b3398f6d026824",
            "e04fa76468ee46ed858bcc551b4d9e4f",
            "c5c3b2486a044378bcac50e9e9a57f1f",
            "9b163bb51c5e4c9a97338e4c31da038b",
            "359ee5aa4a4246aab3d0b870fff906c8",
            "d2f1654cf3834a619b70940a6a3f61c8"
          ]
        },
        "outputId": "9a0707ca-b111-453b-b78e-7dd6c9d6ebfb"
      },
      "execution_count": 19,
      "outputs": [
        {
          "output_type": "display_data",
          "data": {
            "text/plain": [
              "  0%|          | 0/100 [00:00<?, ?it/s]"
            ],
            "application/vnd.jupyter.widget-view+json": {
              "version_major": 2,
              "version_minor": 0,
              "model_id": "7bdf99216a6b4684a68f2912d4ff6453"
            }
          },
          "metadata": {}
        }
      ]
    },
    {
      "cell_type": "markdown",
      "metadata": {
        "id": "_tpNTUWVe6Ci"
      },
      "source": [
        "Обучите сверточную сеть с batch_norm'ом"
      ]
    },
    {
      "cell_type": "code",
      "metadata": {
        "id": "406kS0wFe6Co"
      },
      "source": [
        "modelBN = nn.Sequential(\n",
        "    BatchNorm2dLayer(1),\n",
        "    nn.Conv2d(1, 2, kernel_size=3, padding=1),\n",
        "    nn.ReLU(),\n",
        "    BatchNorm2dLayer(2),\n",
        "    nn.Conv2d(2, 4, kernel_size=3, padding=1),\n",
        "    nn.ReLU(),\n",
        "    BatchNorm2dLayer(4),\n",
        "    nn.Conv2d(4, 1, kernel_size=3, padding=1),\n",
        "    nn.Flatten(1),\n",
        "    nn.Linear(28 * 28 * 1, num_classes),\n",
        "    nn.LogSoftmax(dim=-1)\n",
        "    )"
      ],
      "execution_count": 20,
      "outputs": []
    },
    {
      "cell_type": "code",
      "metadata": {
        "id": "Uqt2bVKWe6Cq",
        "colab": {
          "base_uri": "https://localhost:8080/",
          "height": 945
        },
        "outputId": "4a8460d3-c534-47e6-adf0-b7aa9c69d37f"
      },
      "source": [
        "opt = torch.optim.RMSprop(modelBN.parameters(), lr=0.01)\n",
        "train(modelBN, opt, 3)"
      ],
      "execution_count": 21,
      "outputs": [
        {
          "output_type": "display_data",
          "data": {
            "text/plain": [
              "<Figure size 640x480 with 1 Axes>"
            ],
            "image/png": "[encoded data removed]"
          },
          "metadata": {}
        },
        {
          "output_type": "display_data",
          "data": {
            "text/plain": [
              "<Figure size 640x480 with 1 Axes>"
            ],
            "image/png": "[encoded data removed]"
          },
          "metadata": {}
        },
        {
          "output_type": "stream",
          "name": "stdout",
          "text": [
            "Epoch: 2, val loss: 0.14662540190016168, val accuracy: 0.9553006291389465\n"
          ]
        }
      ]
    },
    {
      "cell_type": "code",
      "source": [
        "for m in modelBN.modules():\n",
        "    if isinstance(m, BatchNorm2dLayer):\n",
        "        print(m)\n",
        "        print(\"Parameters:\", \"weight       =\", m.weight.data,  \"bias        =\", m.bias.data)\n",
        "        print(\"Buffers:   \", \"running_mean =\", m.running_mean, \"running_var =\", m.running_var)\n",
        "        print(\"\\n\")"
      ],
      "metadata": {
        "id": "rLfxoI2zY30Z",
        "colab": {
          "base_uri": "https://localhost:8080/"
        },
        "outputId": "6264df7f-910e-4941-dde5-6845c5994649"
      },
      "execution_count": 22,
      "outputs": [
        {
          "output_type": "stream",
          "name": "stdout",
          "text": [
            "BatchNorm2dLayer(1, eps=1e-05, momentum=0.1, affine=True, track_running_stats=True)\n",
            "Parameters: weight       = tensor([1.7214]) bias        = tensor([-0.2431])\n",
            "Buffers:    running_mean = tensor([0.1302]) running_var = tensor([0.0947])\n",
            "\n",
            "\n",
            "BatchNorm2dLayer(2, eps=1e-05, momentum=0.1, affine=True, track_running_stats=True)\n",
            "Parameters: weight       = tensor([1.1368, 1.1406]) bias        = tensor([ 0.1595, -0.0078])\n",
            "Buffers:    running_mean = tensor([0.3925, 0.7351]) running_var = tensor([1.1559, 3.4911])\n",
            "\n",
            "\n",
            "BatchNorm2dLayer(4, eps=1e-05, momentum=0.1, affine=True, track_running_stats=True)\n",
            "Parameters: weight       = tensor([0.0817, 0.1559, 0.2293, 0.3276]) bias        = tensor([-0.0205,  0.0153, -0.0132, -0.0501])\n",
            "Buffers:    running_mean = tensor([0.6933, 0.4129, 0.3359, 0.2169]) running_var = tensor([1.0099, 1.9785, 1.1530, 0.9154])\n",
            "\n",
            "\n"
          ]
        }
      ]
    }
  ]
}